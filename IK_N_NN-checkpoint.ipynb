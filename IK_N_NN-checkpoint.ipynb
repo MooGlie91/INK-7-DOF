{
 "cells": [
  {
   "cell_type": "code",
   "execution_count": 116,
   "id": "5792a018",
   "metadata": {},
   "outputs": [],
   "source": [
    "#import library for machine learning\n",
    "import pandas as pd\n",
    "from sklearn.model_selection import train_test_split\n",
    "from tensorflow.keras import Model, Sequential\n",
    "from tensorflow.keras.layers import Dense, GlobalMaxPooling1D, LeakyReLU, Input, LSTM, Conv1D, Flatten, BatchNormalization\n",
    "from tensorflow.keras.optimizers import Adam"
   ]
  },
  {
   "cell_type": "code",
   "execution_count": 134,
   "id": "443c6949",
   "metadata": {},
   "outputs": [],
   "source": [
    "# import library for calculation and plot \n",
    "from sklearn.metrics import mean_squared_error\n",
    "import numpy as np\n",
    "import matplotlib.pyplot as plt"
   ]
  },
  {
   "cell_type": "code",
   "execution_count": 118,
   "id": "a7af92e3",
   "metadata": {},
   "outputs": [],
   "source": [
    "#define where my data are from a csv file\n",
    "#Then we read them with .read\n",
    "\n",
    "dfpoints1 = pd.read_csv(r\"C:\\Users\\rayan\\OneDrive\\Bureau\\ETS\\ete 2021\\GES824\\Data_Projet\\data_points_1.csv\", delimiter=\";\", names=[\"x\",\"y\",\"z\"])\n",
    "dfpoints2 = pd.read_csv(r\"C:\\Users\\rayan\\OneDrive\\Bureau\\ETS\\ete 2021\\GES824\\Data_Projet\\data_points_2.csv\", delimiter=\";\", names=[\"x\",\"y\",\"z\"])\n",
    "dfpoints3 =pd.read_csv(r\"C:\\Users\\rayan\\OneDrive\\Bureau\\ETS\\ete 2021\\GES824\\Data_Projet\\data_points_3.csv\", delimiter=\";\", names=[\"x\",\"y\",\"z\"])\n",
    "dfpoints4 =pd.read_csv(r\"C:\\Users\\rayan\\OneDrive\\Bureau\\ETS\\ete 2021\\GES824\\Data_Projet\\data_points_4.csv\", delimiter=\";\", names=[\"x\",\"y\",\"z\"])\n",
    "dfpoints5 =pd.read_csv(r\"C:\\Users\\rayan\\OneDrive\\Bureau\\ETS\\ete 2021\\GES824\\Data_Projet\\data_points_5.csv\", delimiter=\";\", names=[\"x\",\"y\",\"z\"])\n",
    "dfpoints6 =pd.read_csv(r\"C:\\Users\\rayan\\OneDrive\\Bureau\\ETS\\ete 2021\\GES824\\Data_Projet\\data_points_6.csv\", delimiter=\";\", names=[\"x\",\"y\",\"z\"])\n",
    "dfpoints7 =pd.read_csv(r\"C:\\Users\\rayan\\OneDrive\\Bureau\\ETS\\ete 2021\\GES824\\Data_Projet\\data_points_7.csv\", delimiter=\";\", names=[\"x\",\"y\",\"z\"])\n",
    "dfpoints8 =pd.read_csv(r\"C:\\Users\\rayan\\OneDrive\\Bureau\\ETS\\ete 2021\\GES824\\Data_Projet\\data_points_8.csv\", delimiter=\";\", names=[\"x\",\"y\",\"z\"])\n",
    "\n",
    "\n",
    "frames = [dfpoints1, dfpoints2, dfpoints3, dfpoints4, dfpoints5, dfpoints6, dfpoints7]\n",
    "#we make a data frame based on alls de data frame points \n",
    "dfpoints = pd.concat(frames)\n",
    "# define the data frame points8 as our validation data\n",
    "X_valid = dfpoints8\n",
    "\n",
    "dfangle1 = pd.read_csv(r\"C:\\Users\\rayan\\OneDrive\\Bureau\\ETS\\ete 2021\\GES824\\Data_Projet\\data_angle_1.csv\", delimiter=\";\", names=[\"theta1\",\"theta2\", \"theta3\",\"theta4\",\"theta5\",\"theta6\",\"theta7\"])\n",
    "dfangle2 = pd.read_csv(r\"C:\\Users\\rayan\\OneDrive\\Bureau\\ETS\\ete 2021\\GES824\\Data_Projet\\data_angle_2.csv\", delimiter=\";\", names=[\"theta1\",\"theta2\", \"theta3\",\"theta4\",\"theta5\",\"theta6\",\"theta7\"])\n",
    "dfangle3 = pd.read_csv(r\"C:\\Users\\rayan\\OneDrive\\Bureau\\ETS\\ete 2021\\GES824\\Data_Projet\\data_angle_3.csv\", delimiter=\";\", names=[\"theta1\",\"theta2\", \"theta3\",\"theta4\",\"theta5\",\"theta6\",\"theta7\"])\n",
    "dfangle4 = pd.read_csv(r\"C:\\Users\\rayan\\OneDrive\\Bureau\\ETS\\ete 2021\\GES824\\Data_Projet\\data_angle_4.csv\", delimiter=\";\", names=[\"theta1\",\"theta2\", \"theta3\",\"theta4\",\"theta5\",\"theta6\",\"theta7\"])\n",
    "dfangle5 = pd.read_csv(r\"C:\\Users\\rayan\\OneDrive\\Bureau\\ETS\\ete 2021\\GES824\\Data_Projet\\data_angle_5.csv\", delimiter=\";\", names=[\"theta1\",\"theta2\", \"theta3\",\"theta4\",\"theta5\",\"theta6\",\"theta7\"])\n",
    "dfangle6 = pd.read_csv(r\"C:\\Users\\rayan\\OneDrive\\Bureau\\ETS\\ete 2021\\GES824\\Data_Projet\\data_angle_6.csv\", delimiter=\";\", names=[\"theta1\",\"theta2\", \"theta3\",\"theta4\",\"theta5\",\"theta6\",\"theta7\"])\n",
    "dfangle7 = pd.read_csv(r\"C:\\Users\\rayan\\OneDrive\\Bureau\\ETS\\ete 2021\\GES824\\Data_Projet\\data_angle_7.csv\", delimiter=\";\", names=[\"theta1\",\"theta2\", \"theta3\",\"theta4\",\"theta5\",\"theta6\",\"theta7\"])\n",
    "dfangle8 = pd.read_csv(r\"C:\\Users\\rayan\\OneDrive\\Bureau\\ETS\\ete 2021\\GES824\\Data_Projet\\data_angle_8.csv\", delimiter=\";\", names=[\"theta1\",\"theta2\", \"theta3\",\"theta4\",\"theta5\",\"theta6\",\"theta7\"])\n",
    "\n",
    "\n",
    "frames2 = [dfangle1, dfangle2, dfangle3, dfangle4, dfangle5, dfangle6, dfangle7]\n",
    "#we make a data frame based on alls de data frame angle \n",
    "dfangle = pd.concat(frames2)\n",
    "# define the data frame angle8 as our validation data\n",
    "Y_valid = dfangle8\n"
   ]
  },
  {
   "cell_type": "code",
   "execution_count": 119,
   "id": "b4fff288",
   "metadata": {},
   "outputs": [
    {
     "data": {
      "text/html": [
       "<div>\n",
       "<style scoped>\n",
       "    .dataframe tbody tr th:only-of-type {\n",
       "        vertical-align: middle;\n",
       "    }\n",
       "\n",
       "    .dataframe tbody tr th {\n",
       "        vertical-align: top;\n",
       "    }\n",
       "\n",
       "    .dataframe thead th {\n",
       "        text-align: right;\n",
       "    }\n",
       "</style>\n",
       "<table border=\"1\" class=\"dataframe\">\n",
       "  <thead>\n",
       "    <tr style=\"text-align: right;\">\n",
       "      <th></th>\n",
       "      <th>x</th>\n",
       "      <th>y</th>\n",
       "      <th>z</th>\n",
       "    </tr>\n",
       "  </thead>\n",
       "  <tbody>\n",
       "    <tr>\n",
       "      <th>0</th>\n",
       "      <td>0.5</td>\n",
       "      <td>0.1</td>\n",
       "      <td>0.400063</td>\n",
       "    </tr>\n",
       "    <tr>\n",
       "      <th>1</th>\n",
       "      <td>0.5</td>\n",
       "      <td>0.1</td>\n",
       "      <td>0.400126</td>\n",
       "    </tr>\n",
       "    <tr>\n",
       "      <th>2</th>\n",
       "      <td>0.5</td>\n",
       "      <td>0.1</td>\n",
       "      <td>0.400188</td>\n",
       "    </tr>\n",
       "  </tbody>\n",
       "</table>\n",
       "</div>"
      ],
      "text/plain": [
       "     x    y         z\n",
       "0  0.5  0.1  0.400063\n",
       "1  0.5  0.1  0.400126\n",
       "2  0.5  0.1  0.400188"
      ]
     },
     "execution_count": 119,
     "metadata": {},
     "output_type": "execute_result"
    }
   ],
   "source": [
    "# Display inputdata\n",
    "X_Data = dfpoints\n",
    "X_Data.head(3)"
   ]
  },
  {
   "cell_type": "code",
   "execution_count": 120,
   "id": "bea85846",
   "metadata": {},
   "outputs": [
    {
     "data": {
      "text/html": [
       "<div>\n",
       "<style scoped>\n",
       "    .dataframe tbody tr th:only-of-type {\n",
       "        vertical-align: middle;\n",
       "    }\n",
       "\n",
       "    .dataframe tbody tr th {\n",
       "        vertical-align: top;\n",
       "    }\n",
       "\n",
       "    .dataframe thead th {\n",
       "        text-align: right;\n",
       "    }\n",
       "</style>\n",
       "<table border=\"1\" class=\"dataframe\">\n",
       "  <thead>\n",
       "    <tr style=\"text-align: right;\">\n",
       "      <th></th>\n",
       "      <th>theta1</th>\n",
       "      <th>theta2</th>\n",
       "      <th>theta3</th>\n",
       "      <th>theta4</th>\n",
       "      <th>theta5</th>\n",
       "      <th>theta6</th>\n",
       "      <th>theta7</th>\n",
       "    </tr>\n",
       "  </thead>\n",
       "  <tbody>\n",
       "    <tr>\n",
       "      <th>0</th>\n",
       "      <td>-0.252025</td>\n",
       "      <td>0.443977</td>\n",
       "      <td>3.096152</td>\n",
       "      <td>-2.130523</td>\n",
       "      <td>-0.342403</td>\n",
       "      <td>1.035787</td>\n",
       "      <td>1.770949</td>\n",
       "    </tr>\n",
       "    <tr>\n",
       "      <th>1</th>\n",
       "      <td>-0.252027</td>\n",
       "      <td>0.443828</td>\n",
       "      <td>3.096157</td>\n",
       "      <td>-2.130459</td>\n",
       "      <td>-0.342446</td>\n",
       "      <td>1.035584</td>\n",
       "      <td>1.771024</td>\n",
       "    </tr>\n",
       "    <tr>\n",
       "      <th>2</th>\n",
       "      <td>-0.252030</td>\n",
       "      <td>0.443679</td>\n",
       "      <td>3.096162</td>\n",
       "      <td>-2.130394</td>\n",
       "      <td>-0.342490</td>\n",
       "      <td>1.035380</td>\n",
       "      <td>1.771100</td>\n",
       "    </tr>\n",
       "  </tbody>\n",
       "</table>\n",
       "</div>"
      ],
      "text/plain": [
       "     theta1    theta2    theta3    theta4    theta5    theta6    theta7\n",
       "0 -0.252025  0.443977  3.096152 -2.130523 -0.342403  1.035787  1.770949\n",
       "1 -0.252027  0.443828  3.096157 -2.130459 -0.342446  1.035584  1.771024\n",
       "2 -0.252030  0.443679  3.096162 -2.130394 -0.342490  1.035380  1.771100"
      ]
     },
     "execution_count": 120,
     "metadata": {},
     "output_type": "execute_result"
    }
   ],
   "source": [
    "\n",
    "# Display outputdata\n",
    "#dfangle.head()\n",
    "Y_Data = dfangle\n",
    "Y_Data.head(3)"
   ]
  },
  {
   "cell_type": "code",
   "execution_count": 121,
   "id": "883261a7",
   "metadata": {},
   "outputs": [],
   "source": [
    "#Normalized data and validation data\n",
    "Y_Data = Y_Data.apply(lambda y: (y - y.min(axis=0)) / (y.max(axis=0) - y.min(axis=0)))\n",
    "Y_valid = Y_valid.apply(lambda y: (y - y.min(axis=0)) / (y.max(axis=0) - y.min(axis=0)))\n"
   ]
  },
  {
   "cell_type": "code",
   "execution_count": 122,
   "id": "f86cc7c2",
   "metadata": {},
   "outputs": [
    {
     "data": {
      "text/html": [
       "<div>\n",
       "<style scoped>\n",
       "    .dataframe tbody tr th:only-of-type {\n",
       "        vertical-align: middle;\n",
       "    }\n",
       "\n",
       "    .dataframe tbody tr th {\n",
       "        vertical-align: top;\n",
       "    }\n",
       "\n",
       "    .dataframe thead th {\n",
       "        text-align: right;\n",
       "    }\n",
       "</style>\n",
       "<table border=\"1\" class=\"dataframe\">\n",
       "  <thead>\n",
       "    <tr style=\"text-align: right;\">\n",
       "      <th></th>\n",
       "      <th>theta1</th>\n",
       "      <th>theta2</th>\n",
       "      <th>theta3</th>\n",
       "      <th>theta4</th>\n",
       "      <th>theta5</th>\n",
       "      <th>theta6</th>\n",
       "      <th>theta7</th>\n",
       "    </tr>\n",
       "  </thead>\n",
       "  <tbody>\n",
       "    <tr>\n",
       "      <th>0</th>\n",
       "      <td>0.002419</td>\n",
       "      <td>0.349408</td>\n",
       "      <td>0.899103</td>\n",
       "      <td>0.487069</td>\n",
       "      <td>0.135228</td>\n",
       "      <td>0.536353</td>\n",
       "      <td>0.480817</td>\n",
       "    </tr>\n",
       "    <tr>\n",
       "      <th>1</th>\n",
       "      <td>0.002400</td>\n",
       "      <td>0.349174</td>\n",
       "      <td>0.899141</td>\n",
       "      <td>0.487381</td>\n",
       "      <td>0.135076</td>\n",
       "      <td>0.536118</td>\n",
       "      <td>0.481103</td>\n",
       "    </tr>\n",
       "    <tr>\n",
       "      <th>2</th>\n",
       "      <td>0.002380</td>\n",
       "      <td>0.348941</td>\n",
       "      <td>0.899180</td>\n",
       "      <td>0.487694</td>\n",
       "      <td>0.134924</td>\n",
       "      <td>0.535883</td>\n",
       "      <td>0.481389</td>\n",
       "    </tr>\n",
       "    <tr>\n",
       "      <th>3</th>\n",
       "      <td>0.002361</td>\n",
       "      <td>0.348708</td>\n",
       "      <td>0.899218</td>\n",
       "      <td>0.488006</td>\n",
       "      <td>0.134772</td>\n",
       "      <td>0.535648</td>\n",
       "      <td>0.481675</td>\n",
       "    </tr>\n",
       "    <tr>\n",
       "      <th>4</th>\n",
       "      <td>0.002343</td>\n",
       "      <td>0.348475</td>\n",
       "      <td>0.899257</td>\n",
       "      <td>0.488319</td>\n",
       "      <td>0.134620</td>\n",
       "      <td>0.535413</td>\n",
       "      <td>0.481961</td>\n",
       "    </tr>\n",
       "    <tr>\n",
       "      <th>5</th>\n",
       "      <td>0.002324</td>\n",
       "      <td>0.348241</td>\n",
       "      <td>0.899295</td>\n",
       "      <td>0.488631</td>\n",
       "      <td>0.134468</td>\n",
       "      <td>0.535178</td>\n",
       "      <td>0.482247</td>\n",
       "    </tr>\n",
       "    <tr>\n",
       "      <th>6</th>\n",
       "      <td>0.002305</td>\n",
       "      <td>0.348008</td>\n",
       "      <td>0.899334</td>\n",
       "      <td>0.488943</td>\n",
       "      <td>0.134315</td>\n",
       "      <td>0.534943</td>\n",
       "      <td>0.482533</td>\n",
       "    </tr>\n",
       "    <tr>\n",
       "      <th>7</th>\n",
       "      <td>0.002286</td>\n",
       "      <td>0.347775</td>\n",
       "      <td>0.899373</td>\n",
       "      <td>0.489256</td>\n",
       "      <td>0.134164</td>\n",
       "      <td>0.534707</td>\n",
       "      <td>0.482819</td>\n",
       "    </tr>\n",
       "    <tr>\n",
       "      <th>8</th>\n",
       "      <td>0.002268</td>\n",
       "      <td>0.347542</td>\n",
       "      <td>0.899412</td>\n",
       "      <td>0.489568</td>\n",
       "      <td>0.134012</td>\n",
       "      <td>0.534472</td>\n",
       "      <td>0.483105</td>\n",
       "    </tr>\n",
       "    <tr>\n",
       "      <th>9</th>\n",
       "      <td>0.002249</td>\n",
       "      <td>0.347309</td>\n",
       "      <td>0.899450</td>\n",
       "      <td>0.489880</td>\n",
       "      <td>0.133860</td>\n",
       "      <td>0.534237</td>\n",
       "      <td>0.483390</td>\n",
       "    </tr>\n",
       "  </tbody>\n",
       "</table>\n",
       "</div>"
      ],
      "text/plain": [
       "     theta1    theta2    theta3    theta4    theta5    theta6    theta7\n",
       "0  0.002419  0.349408  0.899103  0.487069  0.135228  0.536353  0.480817\n",
       "1  0.002400  0.349174  0.899141  0.487381  0.135076  0.536118  0.481103\n",
       "2  0.002380  0.348941  0.899180  0.487694  0.134924  0.535883  0.481389\n",
       "3  0.002361  0.348708  0.899218  0.488006  0.134772  0.535648  0.481675\n",
       "4  0.002343  0.348475  0.899257  0.488319  0.134620  0.535413  0.481961\n",
       "5  0.002324  0.348241  0.899295  0.488631  0.134468  0.535178  0.482247\n",
       "6  0.002305  0.348008  0.899334  0.488943  0.134315  0.534943  0.482533\n",
       "7  0.002286  0.347775  0.899373  0.489256  0.134164  0.534707  0.482819\n",
       "8  0.002268  0.347542  0.899412  0.489568  0.134012  0.534472  0.483105\n",
       "9  0.002249  0.347309  0.899450  0.489880  0.133860  0.534237  0.483390"
      ]
     },
     "execution_count": 122,
     "metadata": {},
     "output_type": "execute_result"
    }
   ],
   "source": [
    "Y_valid.head(10)"
   ]
  },
  {
   "cell_type": "code",
   "execution_count": null,
   "id": "53ef3b90",
   "metadata": {},
   "outputs": [],
   "source": []
  },
  {
   "cell_type": "code",
   "execution_count": 123,
   "id": "57939eb1",
   "metadata": {},
   "outputs": [],
   "source": [
    "# split the datas into 2 groups : one is trainned the other one is tested\n",
    "# 33% of the data are in the tested group\n",
    "# 67% of the data are in the training group to train the model\n",
    "# random_state desable the randomness of the program\n",
    "\n",
    "X_train, X_test, y_train, y_test = train_test_split( X_Data, Y_Data, test_size=0.33, random_state=42)\n",
    "\n",
    "\n",
    "X_train = np.array(X_train) \n",
    "X_test = np.array(X_test)\n",
    "X_valid = np.array(X_valid)\n",
    "\n"
   ]
  },
  {
   "cell_type": "code",
   "execution_count": 124,
   "id": "407a7495",
   "metadata": {
    "scrolled": true
   },
   "outputs": [],
   "source": [
    "X_train = X_train.reshape(X_train.shape[0],X_train.shape[1],1)\n",
    "X_test = X_test.reshape(X_test.shape[0],X_test.shape[1],1)\n",
    "X_valid = X_valid.reshape(X_valid.shape[0],X_valid.shape[1],1)\n",
    "\n",
    "# Change matrix dimention, 3x1x1 with the last one as empty value, needed for the CNN\n",
    "\n"
   ]
  },
  {
   "cell_type": "code",
   "execution_count": 180,
   "id": "1187f11d",
   "metadata": {},
   "outputs": [],
   "source": [
    "#create a model sequential\n",
    "#create our CNN and ANN and define every parameter\n",
    "\n",
    "model = Sequential()\n",
    "model.add(Conv1D(filters=512, kernel_size=3, padding='same', activation='linear', input_shape=(3, 1)))\n",
    "model.add(Conv1D(filters=256, kernel_size=3))\n",
    "model.add(Flatten())\n",
    "model.add(Dense(512,activation = 'tanh'))\n",
    "model.add(Dense(256,activation = 'tanh'))\n",
    "model.add(Dense(512,activation = 'tanh'))\n",
    "model.add(Dense(256,activation = 'tanh'))\n",
    "model.add(Dense(256,activation = 'tanh'))\n",
    "model.add(BatchNormalization())\n",
    "model.add(Dense(7, activation = LeakyReLU()))\n",
    "\n",
    "model.compile(loss='mse',optimizer= Adam(learning_rate=0.001))\n",
    "\n",
    "#loss is the type of resultat: here mean square error\n",
    "#learning speed is 10^-3"
   ]
  },
  {
   "cell_type": "code",
   "execution_count": 181,
   "id": "8e74f4a0",
   "metadata": {},
   "outputs": [
    {
     "name": "stdout",
     "output_type": "stream",
     "text": [
      "Model: \"sequential_15\"\n",
      "_________________________________________________________________\n",
      "Layer (type)                 Output Shape              Param #   \n",
      "=================================================================\n",
      "conv1d_26 (Conv1D)           (None, 3, 512)            2048      \n",
      "_________________________________________________________________\n",
      "conv1d_27 (Conv1D)           (None, 1, 256)            393472    \n",
      "_________________________________________________________________\n",
      "flatten_13 (Flatten)         (None, 256)               0         \n",
      "_________________________________________________________________\n",
      "dense_63 (Dense)             (None, 512)               131584    \n",
      "_________________________________________________________________\n",
      "dense_64 (Dense)             (None, 256)               131328    \n",
      "_________________________________________________________________\n",
      "dense_65 (Dense)             (None, 512)               131584    \n",
      "_________________________________________________________________\n",
      "dense_66 (Dense)             (None, 256)               131328    \n",
      "_________________________________________________________________\n",
      "batch_normalization_13 (Batc (None, 256)               1024      \n",
      "_________________________________________________________________\n",
      "dense_67 (Dense)             (None, 7)                 1799      \n",
      "=================================================================\n",
      "Total params: 924,167\n",
      "Trainable params: 923,655\n",
      "Non-trainable params: 512\n",
      "_________________________________________________________________\n",
      "None\n"
     ]
    }
   ],
   "source": [
    "print(model.summary())\n",
    "\n",
    "# none is the dimention of wayback, this model is only forward so one way"
   ]
  },
  {
   "cell_type": "code",
   "execution_count": 182,
   "id": "10c045f9",
   "metadata": {
    "scrolled": false
   },
   "outputs": [
    {
     "name": "stdout",
     "output_type": "stream",
     "text": [
      "Fit model on training data\n",
      "Epoch 1/20\n",
      "733/733 [==============================] - 4s 6ms/step - loss: 0.0150\n",
      "Epoch 2/20\n",
      "733/733 [==============================] - 4s 6ms/step - loss: 0.0054\n",
      "Epoch 3/20\n",
      "733/733 [==============================] - 4s 6ms/step - loss: 0.0029\n",
      "Epoch 4/20\n",
      "733/733 [==============================] - 4s 6ms/step - loss: 0.0024\n",
      "Epoch 5/20\n",
      "733/733 [==============================] - 4s 6ms/step - loss: 0.0021\n",
      "Epoch 6/20\n",
      "733/733 [==============================] - 4s 6ms/step - loss: 0.0019\n",
      "Epoch 7/20\n",
      "733/733 [==============================] - 4s 6ms/step - loss: 0.0016\n",
      "Epoch 8/20\n",
      "733/733 [==============================] - 4s 6ms/step - loss: 0.0015\n",
      "Epoch 9/20\n",
      "733/733 [==============================] - 4s 6ms/step - loss: 0.0014\n",
      "Epoch 10/20\n",
      "733/733 [==============================] - 4s 6ms/step - loss: 0.0014\n",
      "Epoch 11/20\n",
      "733/733 [==============================] - 4s 6ms/step - loss: 0.0015\n",
      "Epoch 12/20\n",
      "733/733 [==============================] - 4s 6ms/step - loss: 0.0014\n",
      "Epoch 13/20\n",
      "733/733 [==============================] - 4s 6ms/step - loss: 0.0014\n",
      "Epoch 14/20\n",
      "733/733 [==============================] - 5s 6ms/step - loss: 0.0013\n",
      "Epoch 15/20\n",
      "733/733 [==============================] - 5s 6ms/step - loss: 0.0014\n",
      "Epoch 16/20\n",
      "733/733 [==============================] - 5s 6ms/step - loss: 0.0013\n",
      "Epoch 17/20\n",
      "733/733 [==============================] - 5s 7ms/step - loss: 0.0013\n",
      "Epoch 18/20\n",
      "733/733 [==============================] - 5s 6ms/step - loss: 0.0013\n",
      "Epoch 19/20\n",
      "733/733 [==============================] - 5s 6ms/step - loss: 0.0013\n",
      "Epoch 20/20\n",
      "733/733 [==============================] - 5s 6ms/step - loss: 0.0013\n"
     ]
    }
   ],
   "source": [
    "# we define the fitness function ofthe program\n",
    "print(\"Fit model on training data\")\n",
    "history = model.fit(\n",
    "    x = X_train,\n",
    "    y = y_train,\n",
    "    \n",
    "    # train with 64 data then update his hyperparametter\n",
    "    batch_size= 64,\n",
    "    #we make 20 epochs per modele\n",
    "    epochs = 20,\n",
    ")"
   ]
  },
  {
   "cell_type": "code",
   "execution_count": 195,
   "id": "e7680e25",
   "metadata": {},
   "outputs": [],
   "source": [
    "y_pred = model.predict(X_valid)\n"
   ]
  },
  {
   "cell_type": "code",
   "execution_count": 196,
   "id": "b8ce2724",
   "metadata": {},
   "outputs": [
    {
     "name": "stdout",
     "output_type": "stream",
     "text": [
      "[0.015033197589218616, 0.005383813753724098, 0.0028626949060708284, 0.0024017218966037035, 0.0020989987533539534, 0.0018515308620408177, 0.0016331595834344625, 0.0015230155549943447, 0.0014491007896140218, 0.0014196443371474743, 0.001470107352361083, 0.001384747913107276, 0.0014242883771657944, 0.001290627638809383, 0.0013684876030310988, 0.0012773595517501235, 0.0012662477092817426, 0.001292681903578341, 0.0012619392946362495, 0.001255458570085466]\n"
     ]
    }
   ],
   "source": [
    "#print the loss of the model as a matrix \n",
    "print(history.history['loss'])"
   ]
  },
  {
   "cell_type": "code",
   "execution_count": 197,
   "id": "02f56ccb",
   "metadata": {},
   "outputs": [
    {
     "data": {
      "text/plain": [
       "0.8045655604304818"
      ]
     },
     "execution_count": 197,
     "metadata": {},
     "output_type": "execute_result"
    }
   ],
   "source": [
    "np.sqrt(mean_squared_error(Y_valid, y_pred, squared=True))\n",
    "#mean_squared_error(y_test, y_pred, squared=True)"
   ]
  },
  {
   "cell_type": "code",
   "execution_count": null,
   "id": "dca3f3b5",
   "metadata": {},
   "outputs": [],
   "source": []
  },
  {
   "cell_type": "code",
   "execution_count": 187,
   "id": "95f39277",
   "metadata": {},
   "outputs": [
    {
     "data": {
      "image/png": "[encoded data removed]",
      "text/plain": [
       "<Figure size 432x288 with 1 Axes>"
      ]
     },
     "metadata": {
      "needs_background": "light"
     },
     "output_type": "display_data"
    }
   ],
   "source": [
    "\n",
    "plt.plot([0.023646581918001175, 0.009057970717549324, 0.009042737074196339, 0.007797994185239077, 0.0036457565147429705, 0.0027292934246361256, 0.0024048483464866877, 0.002103537553921342, 0.001965107163414359, 0.0018401116831228137, 0.0018648382974788547, 0.0017822816735133529, 0.00181494967546314, 0.0016300581628456712, 0.001644087489694357, 0.0015807000454515219, 0.001566129270941019, 0.0015493647661060095, 0.0014540309784933925, 0.0015009933849796653])\n",
    "plt.plot([0.018508855253458023, 0.009210482239723206, 0.009089704602956772, 0.005019014235585928, 0.002974705770611763, 0.002470770850777626, 0.0022150801960378885, 0.0021220261696726084, 0.0019757526461035013, 0.0018058890709653497, 0.0017096583032980561, 0.00179626839235425, 0.0018060042057186365, 0.001692804042249918, 0.0017066369764506817, 0.001664103358052671, 0.001558078220114112, 0.0018074463587254286, 0.0015198338078334928, 0.0015147327212616801])\n",
    "plt.plot([0.01498289592564106, 0.005856146104633808, 0.0026539196260273457, 0.0021219688933342695, 0.0019012393895536661, 0.0017945633735507727, 0.0015496317064389586, 0.0015455177053809166, 0.0014583966694772243, 0.0014564211014658213, 0.0014185915933921933, 0.001359764370135963, 0.0013488046824932098, 0.001365173258818686, 0.0012979587772861123, 0.001254549133591354, 0.0012457278789952397, 0.00123772828374058, 0.001259271870367229, 0.001255923300050199])\n",
    "plt.plot([0.009673590771853924, 0.002116128336638212, 0.001883666729554534, 0.0018513710238039494, 0.0017711850814521313, 0.0017602751031517982, 0.0016679860418662429, 0.0016761618899181485, 0.013021511025726795, 0.010629747062921524, 0.010446978732943535, 0.010503316298127174, 0.010327103547751904, 0.010320608504116535, 0.010326138697564602, 0.010388902388513088, 0.010235240682959557, 0.00849332008510828, 0.004354138858616352, 0.003260080236941576])\n",
    "\n",
    "plt.title('model loss')\n",
    "plt.ylabel('loss')\n",
    "plt.xlabel('epoch')\n",
    "plt.legend(['Tanh+Relu', 'Tanh+LeakyReLU', 'sigmoid','LeakyReLU'])\n",
    "plt.show()\n"
   ]
  },
  {
   "cell_type": "code",
   "execution_count": null,
   "id": "1bfd4478",
   "metadata": {},
   "outputs": [],
   "source": []
  },
  {
   "cell_type": "code",
   "execution_count": 186,
   "id": "8f4961d8",
   "metadata": {},
   "outputs": [
    {
     "data": {
      "image/png": "[encoded data removed]",
      "text/plain": [
       "<Figure size 432x288 with 1 Axes>"
      ]
     },
     "metadata": {
      "needs_background": "light"
     },
     "output_type": "display_data"
    }
   ],
   "source": [
    "plt.plot([0.15110723594928197, 0.15110723594928197])\n",
    "plt.plot([0.15736895173154616,0.15736895173154616])\n",
    "plt.plot([0.8045655604304818,])\n",
    "plt.plot([0.1687588156423325,0.1687588156423325])\n",
    "plt.title('model pred')\n",
    "plt.ylabel('loss')\n",
    "plt.legend(['Tanh+Relu', 'Tanh+LeakyReLU', 'sigmoid','LeakyReLU'])\n",
    "plt.show()"
   ]
  },
  {
   "cell_type": "code",
   "execution_count": null,
   "id": "d74275d3",
   "metadata": {},
   "outputs": [],
   "source": []
  },
  {
   "cell_type": "code",
   "execution_count": 198,
   "id": "39abc0d9",
   "metadata": {},
   "outputs": [
    {
     "data": {
      "text/html": [
       "<div>\n",
       "<style scoped>\n",
       "    .dataframe tbody tr th:only-of-type {\n",
       "        vertical-align: middle;\n",
       "    }\n",
       "\n",
       "    .dataframe tbody tr th {\n",
       "        vertical-align: top;\n",
       "    }\n",
       "\n",
       "    .dataframe thead th {\n",
       "        text-align: right;\n",
       "    }\n",
       "</style>\n",
       "<table border=\"1\" class=\"dataframe\">\n",
       "  <thead>\n",
       "    <tr style=\"text-align: right;\">\n",
       "      <th></th>\n",
       "      <th>0</th>\n",
       "      <th>1</th>\n",
       "      <th>2</th>\n",
       "      <th>3</th>\n",
       "      <th>4</th>\n",
       "      <th>5</th>\n",
       "      <th>6</th>\n",
       "    </tr>\n",
       "  </thead>\n",
       "  <tbody>\n",
       "    <tr>\n",
       "      <th>0</th>\n",
       "      <td>-0.205425</td>\n",
       "      <td>0.225082</td>\n",
       "      <td>1.486128</td>\n",
       "      <td>0.802090</td>\n",
       "      <td>-0.307813</td>\n",
       "      <td>-0.065575</td>\n",
       "      <td>2.254413</td>\n",
       "    </tr>\n",
       "    <tr>\n",
       "      <th>1</th>\n",
       "      <td>-0.205389</td>\n",
       "      <td>0.224867</td>\n",
       "      <td>1.485890</td>\n",
       "      <td>0.802260</td>\n",
       "      <td>-0.307853</td>\n",
       "      <td>-0.065631</td>\n",
       "      <td>2.254680</td>\n",
       "    </tr>\n",
       "    <tr>\n",
       "      <th>2</th>\n",
       "      <td>-0.205352</td>\n",
       "      <td>0.224656</td>\n",
       "      <td>1.485652</td>\n",
       "      <td>0.802429</td>\n",
       "      <td>-0.307896</td>\n",
       "      <td>-0.065689</td>\n",
       "      <td>2.254946</td>\n",
       "    </tr>\n",
       "    <tr>\n",
       "      <th>3</th>\n",
       "      <td>-0.205316</td>\n",
       "      <td>0.224443</td>\n",
       "      <td>1.485414</td>\n",
       "      <td>0.802601</td>\n",
       "      <td>-0.307937</td>\n",
       "      <td>-0.065746</td>\n",
       "      <td>2.255213</td>\n",
       "    </tr>\n",
       "    <tr>\n",
       "      <th>4</th>\n",
       "      <td>-0.205279</td>\n",
       "      <td>0.224229</td>\n",
       "      <td>1.485178</td>\n",
       "      <td>0.802773</td>\n",
       "      <td>-0.307979</td>\n",
       "      <td>-0.065803</td>\n",
       "      <td>2.255480</td>\n",
       "    </tr>\n",
       "  </tbody>\n",
       "</table>\n",
       "</div>"
      ],
      "text/plain": [
       "          0         1         2         3         4         5         6\n",
       "0 -0.205425  0.225082  1.486128  0.802090 -0.307813 -0.065575  2.254413\n",
       "1 -0.205389  0.224867  1.485890  0.802260 -0.307853 -0.065631  2.254680\n",
       "2 -0.205352  0.224656  1.485652  0.802429 -0.307896 -0.065689  2.254946\n",
       "3 -0.205316  0.224443  1.485414  0.802601 -0.307937 -0.065746  2.255213\n",
       "4 -0.205279  0.224229  1.485178  0.802773 -0.307979 -0.065803  2.255480"
      ]
     },
     "execution_count": 198,
     "metadata": {},
     "output_type": "execute_result"
    }
   ],
   "source": [
    "y_pred = pd.DataFrame(y_pred)\n",
    "y_pred.head(5)"
   ]
  },
  {
   "cell_type": "code",
   "execution_count": 199,
   "id": "68059c3e",
   "metadata": {},
   "outputs": [
    {
     "data": {
      "text/html": [
       "<div>\n",
       "<style scoped>\n",
       "    .dataframe tbody tr th:only-of-type {\n",
       "        vertical-align: middle;\n",
       "    }\n",
       "\n",
       "    .dataframe tbody tr th {\n",
       "        vertical-align: top;\n",
       "    }\n",
       "\n",
       "    .dataframe thead th {\n",
       "        text-align: right;\n",
       "    }\n",
       "</style>\n",
       "<table border=\"1\" class=\"dataframe\">\n",
       "  <thead>\n",
       "    <tr style=\"text-align: right;\">\n",
       "      <th></th>\n",
       "      <th>theta1</th>\n",
       "      <th>theta2</th>\n",
       "      <th>theta3</th>\n",
       "      <th>theta4</th>\n",
       "      <th>theta5</th>\n",
       "      <th>theta6</th>\n",
       "      <th>theta7</th>\n",
       "    </tr>\n",
       "  </thead>\n",
       "  <tbody>\n",
       "    <tr>\n",
       "      <th>0</th>\n",
       "      <td>0.002419</td>\n",
       "      <td>0.349408</td>\n",
       "      <td>0.899103</td>\n",
       "      <td>0.487069</td>\n",
       "      <td>0.135228</td>\n",
       "      <td>0.536353</td>\n",
       "      <td>0.480817</td>\n",
       "    </tr>\n",
       "    <tr>\n",
       "      <th>1</th>\n",
       "      <td>0.002400</td>\n",
       "      <td>0.349174</td>\n",
       "      <td>0.899141</td>\n",
       "      <td>0.487381</td>\n",
       "      <td>0.135076</td>\n",
       "      <td>0.536118</td>\n",
       "      <td>0.481103</td>\n",
       "    </tr>\n",
       "    <tr>\n",
       "      <th>2</th>\n",
       "      <td>0.002380</td>\n",
       "      <td>0.348941</td>\n",
       "      <td>0.899180</td>\n",
       "      <td>0.487694</td>\n",
       "      <td>0.134924</td>\n",
       "      <td>0.535883</td>\n",
       "      <td>0.481389</td>\n",
       "    </tr>\n",
       "    <tr>\n",
       "      <th>3</th>\n",
       "      <td>0.002361</td>\n",
       "      <td>0.348708</td>\n",
       "      <td>0.899218</td>\n",
       "      <td>0.488006</td>\n",
       "      <td>0.134772</td>\n",
       "      <td>0.535648</td>\n",
       "      <td>0.481675</td>\n",
       "    </tr>\n",
       "    <tr>\n",
       "      <th>4</th>\n",
       "      <td>0.002343</td>\n",
       "      <td>0.348475</td>\n",
       "      <td>0.899257</td>\n",
       "      <td>0.488319</td>\n",
       "      <td>0.134620</td>\n",
       "      <td>0.535413</td>\n",
       "      <td>0.481961</td>\n",
       "    </tr>\n",
       "  </tbody>\n",
       "</table>\n",
       "</div>"
      ],
      "text/plain": [
       "     theta1    theta2    theta3    theta4    theta5    theta6    theta7\n",
       "0  0.002419  0.349408  0.899103  0.487069  0.135228  0.536353  0.480817\n",
       "1  0.002400  0.349174  0.899141  0.487381  0.135076  0.536118  0.481103\n",
       "2  0.002380  0.348941  0.899180  0.487694  0.134924  0.535883  0.481389\n",
       "3  0.002361  0.348708  0.899218  0.488006  0.134772  0.535648  0.481675\n",
       "4  0.002343  0.348475  0.899257  0.488319  0.134620  0.535413  0.481961"
      ]
     },
     "execution_count": 199,
     "metadata": {},
     "output_type": "execute_result"
    }
   ],
   "source": [
    "Y_valid.head(5)"
   ]
  },
  {
   "cell_type": "code",
   "execution_count": null,
   "id": "99a1cae4",
   "metadata": {},
   "outputs": [],
   "source": []
  },
  {
   "cell_type": "code",
   "execution_count": null,
   "id": "a2763bd6",
   "metadata": {},
   "outputs": [],
   "source": []
  },
  {
   "cell_type": "code",
   "execution_count": null,
   "id": "37322cbf",
   "metadata": {},
   "outputs": [],
   "source": []
  },
  {
   "cell_type": "code",
   "execution_count": null,
   "id": "2fb8437f",
   "metadata": {},
   "outputs": [],
   "source": []
  }
 ],
 "metadata": {
  "kernelspec": {
   "display_name": "Python 3",
   "language": "python",
   "name": "python3"
  },
  "language_info": {
   "codemirror_mode": {
    "name": "ipython",
    "version": 3
   },
   "file_extension": ".py",
   "mimetype": "text/x-python",
   "name": "python",
   "nbconvert_exporter": "python",
   "pygments_lexer": "ipython3",
   "version": "3.8.8"
  }
 },
 "nbformat": 4,
 "nbformat_minor": 5
}
